{
 "cells": [
  {
   "cell_type": "markdown",
   "id": "02d985eb",
   "metadata": {},
   "source": [
    "Step 1:\n",
    "\n",
    "Imports the csv and prepares for later"
   ]
  },
  {
   "cell_type": "code",
   "execution_count": 1,
   "id": "b75d0b46",
   "metadata": {},
   "outputs": [
    {
     "data": {
      "text/html": [
       "<div>\n",
       "<style scoped>\n",
       "    .dataframe tbody tr th:only-of-type {\n",
       "        vertical-align: middle;\n",
       "    }\n",
       "\n",
       "    .dataframe tbody tr th {\n",
       "        vertical-align: top;\n",
       "    }\n",
       "\n",
       "    .dataframe thead th {\n",
       "        text-align: right;\n",
       "    }\n",
       "</style>\n",
       "<table border=\"1\" class=\"dataframe\">\n",
       "  <thead>\n",
       "    <tr style=\"text-align: right;\">\n",
       "      <th></th>\n",
       "      <th>Unnamed: 0</th>\n",
       "      <th>diagnosis</th>\n",
       "      <th>radius_mean</th>\n",
       "      <th>texture_mean</th>\n",
       "      <th>perimeter_mean</th>\n",
       "      <th>area_mean</th>\n",
       "      <th>smoothness_mean</th>\n",
       "      <th>compactness_mean</th>\n",
       "      <th>concavity_mean</th>\n",
       "      <th>concave points_mean</th>\n",
       "      <th>symmetry_mean</th>\n",
       "      <th>fractal_dimension_mean</th>\n",
       "      <th>diagnosis_encoded</th>\n",
       "    </tr>\n",
       "  </thead>\n",
       "  <tbody>\n",
       "    <tr>\n",
       "      <th>0</th>\n",
       "      <td>0</td>\n",
       "      <td>M</td>\n",
       "      <td>1.097064</td>\n",
       "      <td>-2.073335</td>\n",
       "      <td>1.269934</td>\n",
       "      <td>0.984375</td>\n",
       "      <td>0.11840</td>\n",
       "      <td>0.27760</td>\n",
       "      <td>0.30010</td>\n",
       "      <td>0.14710</td>\n",
       "      <td>0.2419</td>\n",
       "      <td>0.07871</td>\n",
       "      <td>1</td>\n",
       "    </tr>\n",
       "    <tr>\n",
       "      <th>1</th>\n",
       "      <td>1</td>\n",
       "      <td>M</td>\n",
       "      <td>1.829821</td>\n",
       "      <td>-0.353632</td>\n",
       "      <td>1.685955</td>\n",
       "      <td>1.908708</td>\n",
       "      <td>0.08474</td>\n",
       "      <td>0.07864</td>\n",
       "      <td>0.08690</td>\n",
       "      <td>0.07017</td>\n",
       "      <td>0.1812</td>\n",
       "      <td>0.05667</td>\n",
       "      <td>1</td>\n",
       "    </tr>\n",
       "    <tr>\n",
       "      <th>2</th>\n",
       "      <td>2</td>\n",
       "      <td>M</td>\n",
       "      <td>1.579888</td>\n",
       "      <td>0.456187</td>\n",
       "      <td>1.566503</td>\n",
       "      <td>1.558884</td>\n",
       "      <td>0.10960</td>\n",
       "      <td>0.15990</td>\n",
       "      <td>0.19740</td>\n",
       "      <td>0.12790</td>\n",
       "      <td>0.2069</td>\n",
       "      <td>0.05999</td>\n",
       "      <td>1</td>\n",
       "    </tr>\n",
       "    <tr>\n",
       "      <th>3</th>\n",
       "      <td>3</td>\n",
       "      <td>M</td>\n",
       "      <td>-0.768909</td>\n",
       "      <td>0.253732</td>\n",
       "      <td>-0.592687</td>\n",
       "      <td>-0.764464</td>\n",
       "      <td>0.14250</td>\n",
       "      <td>0.28390</td>\n",
       "      <td>0.24140</td>\n",
       "      <td>0.10520</td>\n",
       "      <td>0.2597</td>\n",
       "      <td>0.09744</td>\n",
       "      <td>1</td>\n",
       "    </tr>\n",
       "    <tr>\n",
       "      <th>4</th>\n",
       "      <td>4</td>\n",
       "      <td>M</td>\n",
       "      <td>1.750297</td>\n",
       "      <td>-1.151816</td>\n",
       "      <td>1.776573</td>\n",
       "      <td>1.826229</td>\n",
       "      <td>0.10030</td>\n",
       "      <td>0.13280</td>\n",
       "      <td>0.19800</td>\n",
       "      <td>0.10430</td>\n",
       "      <td>0.1809</td>\n",
       "      <td>0.05883</td>\n",
       "      <td>1</td>\n",
       "    </tr>\n",
       "    <tr>\n",
       "      <th>...</th>\n",
       "      <td>...</td>\n",
       "      <td>...</td>\n",
       "      <td>...</td>\n",
       "      <td>...</td>\n",
       "      <td>...</td>\n",
       "      <td>...</td>\n",
       "      <td>...</td>\n",
       "      <td>...</td>\n",
       "      <td>...</td>\n",
       "      <td>...</td>\n",
       "      <td>...</td>\n",
       "      <td>...</td>\n",
       "      <td>...</td>\n",
       "    </tr>\n",
       "    <tr>\n",
       "      <th>564</th>\n",
       "      <td>564</td>\n",
       "      <td>M</td>\n",
       "      <td>2.110995</td>\n",
       "      <td>0.721473</td>\n",
       "      <td>2.060786</td>\n",
       "      <td>2.343856</td>\n",
       "      <td>0.11100</td>\n",
       "      <td>0.11590</td>\n",
       "      <td>0.24390</td>\n",
       "      <td>0.13890</td>\n",
       "      <td>0.1726</td>\n",
       "      <td>0.05623</td>\n",
       "      <td>1</td>\n",
       "    </tr>\n",
       "    <tr>\n",
       "      <th>565</th>\n",
       "      <td>565</td>\n",
       "      <td>M</td>\n",
       "      <td>1.704854</td>\n",
       "      <td>2.085134</td>\n",
       "      <td>1.615931</td>\n",
       "      <td>1.723842</td>\n",
       "      <td>0.09780</td>\n",
       "      <td>0.10340</td>\n",
       "      <td>0.14400</td>\n",
       "      <td>0.09791</td>\n",
       "      <td>0.1752</td>\n",
       "      <td>0.05533</td>\n",
       "      <td>1</td>\n",
       "    </tr>\n",
       "    <tr>\n",
       "      <th>566</th>\n",
       "      <td>566</td>\n",
       "      <td>M</td>\n",
       "      <td>0.702284</td>\n",
       "      <td>2.045574</td>\n",
       "      <td>0.672676</td>\n",
       "      <td>0.577953</td>\n",
       "      <td>0.08455</td>\n",
       "      <td>0.10230</td>\n",
       "      <td>0.09251</td>\n",
       "      <td>0.05302</td>\n",
       "      <td>0.1590</td>\n",
       "      <td>0.05648</td>\n",
       "      <td>1</td>\n",
       "    </tr>\n",
       "    <tr>\n",
       "      <th>567</th>\n",
       "      <td>567</td>\n",
       "      <td>M</td>\n",
       "      <td>1.838341</td>\n",
       "      <td>2.336457</td>\n",
       "      <td>1.982524</td>\n",
       "      <td>1.735218</td>\n",
       "      <td>0.11780</td>\n",
       "      <td>0.27700</td>\n",
       "      <td>0.35140</td>\n",
       "      <td>0.15200</td>\n",
       "      <td>0.2397</td>\n",
       "      <td>0.07016</td>\n",
       "      <td>1</td>\n",
       "    </tr>\n",
       "    <tr>\n",
       "      <th>568</th>\n",
       "      <td>568</td>\n",
       "      <td>B</td>\n",
       "      <td>-1.808401</td>\n",
       "      <td>1.221792</td>\n",
       "      <td>-1.814389</td>\n",
       "      <td>-1.347789</td>\n",
       "      <td>0.05263</td>\n",
       "      <td>0.04362</td>\n",
       "      <td>0.00000</td>\n",
       "      <td>0.00000</td>\n",
       "      <td>0.1587</td>\n",
       "      <td>0.05884</td>\n",
       "      <td>0</td>\n",
       "    </tr>\n",
       "  </tbody>\n",
       "</table>\n",
       "<p>569 rows × 13 columns</p>\n",
       "</div>"
      ],
      "text/plain": [
       "     Unnamed: 0 diagnosis  radius_mean  texture_mean  perimeter_mean  \\\n",
       "0             0         M     1.097064     -2.073335        1.269934   \n",
       "1             1         M     1.829821     -0.353632        1.685955   \n",
       "2             2         M     1.579888      0.456187        1.566503   \n",
       "3             3         M    -0.768909      0.253732       -0.592687   \n",
       "4             4         M     1.750297     -1.151816        1.776573   \n",
       "..          ...       ...          ...           ...             ...   \n",
       "564         564         M     2.110995      0.721473        2.060786   \n",
       "565         565         M     1.704854      2.085134        1.615931   \n",
       "566         566         M     0.702284      2.045574        0.672676   \n",
       "567         567         M     1.838341      2.336457        1.982524   \n",
       "568         568         B    -1.808401      1.221792       -1.814389   \n",
       "\n",
       "     area_mean  smoothness_mean  compactness_mean  concavity_mean  \\\n",
       "0     0.984375          0.11840           0.27760         0.30010   \n",
       "1     1.908708          0.08474           0.07864         0.08690   \n",
       "2     1.558884          0.10960           0.15990         0.19740   \n",
       "3    -0.764464          0.14250           0.28390         0.24140   \n",
       "4     1.826229          0.10030           0.13280         0.19800   \n",
       "..         ...              ...               ...             ...   \n",
       "564   2.343856          0.11100           0.11590         0.24390   \n",
       "565   1.723842          0.09780           0.10340         0.14400   \n",
       "566   0.577953          0.08455           0.10230         0.09251   \n",
       "567   1.735218          0.11780           0.27700         0.35140   \n",
       "568  -1.347789          0.05263           0.04362         0.00000   \n",
       "\n",
       "     concave points_mean  symmetry_mean  fractal_dimension_mean  \\\n",
       "0                0.14710         0.2419                 0.07871   \n",
       "1                0.07017         0.1812                 0.05667   \n",
       "2                0.12790         0.2069                 0.05999   \n",
       "3                0.10520         0.2597                 0.09744   \n",
       "4                0.10430         0.1809                 0.05883   \n",
       "..                   ...            ...                     ...   \n",
       "564              0.13890         0.1726                 0.05623   \n",
       "565              0.09791         0.1752                 0.05533   \n",
       "566              0.05302         0.1590                 0.05648   \n",
       "567              0.15200         0.2397                 0.07016   \n",
       "568              0.00000         0.1587                 0.05884   \n",
       "\n",
       "     diagnosis_encoded  \n",
       "0                    1  \n",
       "1                    1  \n",
       "2                    1  \n",
       "3                    1  \n",
       "4                    1  \n",
       "..                 ...  \n",
       "564                  1  \n",
       "565                  1  \n",
       "566                  1  \n",
       "567                  1  \n",
       "568                  0  \n",
       "\n",
       "[569 rows x 13 columns]"
      ]
     },
     "execution_count": 1,
     "metadata": {},
     "output_type": "execute_result"
    }
   ],
   "source": [
    "import pandas as pd\n",
    "import numpy as np\n",
    "import sklearn.datasets \n",
    "from sklearn.preprocessing import LabelEncoder, OneHotEncoder,StandardScaler\n",
    "import matplotlib.pyplot as plt\n",
    "from sklearn.metrics import classification_report,confusion_matrix\n",
    "import seaborn as sns\n",
    "sca = StandardScaler()\n",
    "enc = LabelEncoder()\n",
    "oenc = OneHotEncoder()\n",
    "\n",
    "df= pd.read_csv(\"data_refined.csv\")\n",
    "df"
   ]
  },
  {
   "cell_type": "markdown",
   "id": "c547b34e",
   "metadata": {},
   "source": [
    "Step 2:\n",
    "\n",
    "Uses Correlation to find the columns with a higher rating than 0.6 and prints the resulting important columns"
   ]
  },
  {
   "cell_type": "code",
   "execution_count": 2,
   "id": "7668c899",
   "metadata": {
    "scrolled": true
   },
   "outputs": [
    {
     "data": {
      "image/png": "[encoded data removed]",
      "text/plain": [
       "<Figure size 432x288 with 2 Axes>"
      ]
     },
     "metadata": {
      "needs_background": "light"
     },
     "output_type": "display_data"
    }
   ],
   "source": [
    "sns.heatmap(df.corr(), annot = True)\n",
    "cor=df.corr().values"
   ]
  },
  {
   "cell_type": "code",
   "execution_count": 3,
   "id": "aa752ec9",
   "metadata": {},
   "outputs": [
    {
     "data": {
      "text/plain": [
       "radius_mean            0.730029\n",
       "perimeter_mean         0.742636\n",
       "area_mean              0.708984\n",
       "concavity_mean         0.696360\n",
       "concave points_mean    0.776614\n",
       "diagnosis_encoded      1.000000\n",
       "Name: diagnosis_encoded, dtype: float64"
      ]
     },
     "execution_count": 3,
     "metadata": {},
     "output_type": "execute_result"
    }
   ],
   "source": [
    "a=df[df.columns[1:]].corr() ['diagnosis_encoded'][:]\n",
    "result=a[abs(a)>0.6]\n",
    "result"
   ]
  },
  {
   "cell_type": "code",
   "execution_count": 4,
   "id": "53d47e6d",
   "metadata": {},
   "outputs": [],
   "source": [
    "df2=df.copy()"
   ]
  },
  {
   "cell_type": "code",
   "execution_count": 5,
   "id": "7c3bfed9",
   "metadata": {},
   "outputs": [],
   "source": [
    "df2 = df2.drop(['Unnamed: 0','diagnosis','texture_mean', 'smoothness_mean', 'compactness_mean','symmetry_mean','fractal_dimension_mean'], axis='columns')\n"
   ]
  },
  {
   "cell_type": "code",
   "execution_count": 6,
   "id": "487fe411",
   "metadata": {},
   "outputs": [
    {
     "data": {
      "text/html": [
       "<div>\n",
       "<style scoped>\n",
       "    .dataframe tbody tr th:only-of-type {\n",
       "        vertical-align: middle;\n",
       "    }\n",
       "\n",
       "    .dataframe tbody tr th {\n",
       "        vertical-align: top;\n",
       "    }\n",
       "\n",
       "    .dataframe thead th {\n",
       "        text-align: right;\n",
       "    }\n",
       "</style>\n",
       "<table border=\"1\" class=\"dataframe\">\n",
       "  <thead>\n",
       "    <tr style=\"text-align: right;\">\n",
       "      <th></th>\n",
       "      <th>radius_mean</th>\n",
       "      <th>perimeter_mean</th>\n",
       "      <th>area_mean</th>\n",
       "      <th>concavity_mean</th>\n",
       "      <th>concave points_mean</th>\n",
       "      <th>diagnosis_encoded</th>\n",
       "    </tr>\n",
       "  </thead>\n",
       "  <tbody>\n",
       "    <tr>\n",
       "      <th>0</th>\n",
       "      <td>1.097064</td>\n",
       "      <td>1.269934</td>\n",
       "      <td>0.984375</td>\n",
       "      <td>0.30010</td>\n",
       "      <td>0.14710</td>\n",
       "      <td>1</td>\n",
       "    </tr>\n",
       "    <tr>\n",
       "      <th>1</th>\n",
       "      <td>1.829821</td>\n",
       "      <td>1.685955</td>\n",
       "      <td>1.908708</td>\n",
       "      <td>0.08690</td>\n",
       "      <td>0.07017</td>\n",
       "      <td>1</td>\n",
       "    </tr>\n",
       "    <tr>\n",
       "      <th>2</th>\n",
       "      <td>1.579888</td>\n",
       "      <td>1.566503</td>\n",
       "      <td>1.558884</td>\n",
       "      <td>0.19740</td>\n",
       "      <td>0.12790</td>\n",
       "      <td>1</td>\n",
       "    </tr>\n",
       "    <tr>\n",
       "      <th>3</th>\n",
       "      <td>-0.768909</td>\n",
       "      <td>-0.592687</td>\n",
       "      <td>-0.764464</td>\n",
       "      <td>0.24140</td>\n",
       "      <td>0.10520</td>\n",
       "      <td>1</td>\n",
       "    </tr>\n",
       "    <tr>\n",
       "      <th>4</th>\n",
       "      <td>1.750297</td>\n",
       "      <td>1.776573</td>\n",
       "      <td>1.826229</td>\n",
       "      <td>0.19800</td>\n",
       "      <td>0.10430</td>\n",
       "      <td>1</td>\n",
       "    </tr>\n",
       "    <tr>\n",
       "      <th>...</th>\n",
       "      <td>...</td>\n",
       "      <td>...</td>\n",
       "      <td>...</td>\n",
       "      <td>...</td>\n",
       "      <td>...</td>\n",
       "      <td>...</td>\n",
       "    </tr>\n",
       "    <tr>\n",
       "      <th>564</th>\n",
       "      <td>2.110995</td>\n",
       "      <td>2.060786</td>\n",
       "      <td>2.343856</td>\n",
       "      <td>0.24390</td>\n",
       "      <td>0.13890</td>\n",
       "      <td>1</td>\n",
       "    </tr>\n",
       "    <tr>\n",
       "      <th>565</th>\n",
       "      <td>1.704854</td>\n",
       "      <td>1.615931</td>\n",
       "      <td>1.723842</td>\n",
       "      <td>0.14400</td>\n",
       "      <td>0.09791</td>\n",
       "      <td>1</td>\n",
       "    </tr>\n",
       "    <tr>\n",
       "      <th>566</th>\n",
       "      <td>0.702284</td>\n",
       "      <td>0.672676</td>\n",
       "      <td>0.577953</td>\n",
       "      <td>0.09251</td>\n",
       "      <td>0.05302</td>\n",
       "      <td>1</td>\n",
       "    </tr>\n",
       "    <tr>\n",
       "      <th>567</th>\n",
       "      <td>1.838341</td>\n",
       "      <td>1.982524</td>\n",
       "      <td>1.735218</td>\n",
       "      <td>0.35140</td>\n",
       "      <td>0.15200</td>\n",
       "      <td>1</td>\n",
       "    </tr>\n",
       "    <tr>\n",
       "      <th>568</th>\n",
       "      <td>-1.808401</td>\n",
       "      <td>-1.814389</td>\n",
       "      <td>-1.347789</td>\n",
       "      <td>0.00000</td>\n",
       "      <td>0.00000</td>\n",
       "      <td>0</td>\n",
       "    </tr>\n",
       "  </tbody>\n",
       "</table>\n",
       "<p>569 rows × 6 columns</p>\n",
       "</div>"
      ],
      "text/plain": [
       "     radius_mean  perimeter_mean  area_mean  concavity_mean  \\\n",
       "0       1.097064        1.269934   0.984375         0.30010   \n",
       "1       1.829821        1.685955   1.908708         0.08690   \n",
       "2       1.579888        1.566503   1.558884         0.19740   \n",
       "3      -0.768909       -0.592687  -0.764464         0.24140   \n",
       "4       1.750297        1.776573   1.826229         0.19800   \n",
       "..           ...             ...        ...             ...   \n",
       "564     2.110995        2.060786   2.343856         0.24390   \n",
       "565     1.704854        1.615931   1.723842         0.14400   \n",
       "566     0.702284        0.672676   0.577953         0.09251   \n",
       "567     1.838341        1.982524   1.735218         0.35140   \n",
       "568    -1.808401       -1.814389  -1.347789         0.00000   \n",
       "\n",
       "     concave points_mean  diagnosis_encoded  \n",
       "0                0.14710                  1  \n",
       "1                0.07017                  1  \n",
       "2                0.12790                  1  \n",
       "3                0.10520                  1  \n",
       "4                0.10430                  1  \n",
       "..                   ...                ...  \n",
       "564              0.13890                  1  \n",
       "565              0.09791                  1  \n",
       "566              0.05302                  1  \n",
       "567              0.15200                  1  \n",
       "568              0.00000                  0  \n",
       "\n",
       "[569 rows x 6 columns]"
      ]
     },
     "execution_count": 6,
     "metadata": {},
     "output_type": "execute_result"
    }
   ],
   "source": [
    "df2"
   ]
  },
  {
   "cell_type": "markdown",
   "id": "ed1b1be4",
   "metadata": {},
   "source": [
    "Step 3:\n",
    "\n",
    "Splits the 2 datasets, the Non-Reduced and the Reduced sets and performs train_test_split on them"
   ]
  },
  {
   "cell_type": "markdown",
   "id": "66c109c0",
   "metadata": {},
   "source": [
    "Un-Reduced data"
   ]
  },
  {
   "cell_type": "code",
   "execution_count": 7,
   "id": "fcf9367d",
   "metadata": {},
   "outputs": [],
   "source": [
    "x1 = df.iloc[:, 2:12]\n",
    "y1 = df.iloc[:, 12]"
   ]
  },
  {
   "cell_type": "code",
   "execution_count": 8,
   "id": "0066a4c4",
   "metadata": {},
   "outputs": [
    {
     "name": "stdout",
     "output_type": "stream",
     "text": [
      "     radius_mean  texture_mean  perimeter_mean  area_mean  smoothness_mean  \\\n",
      "323     1.764497      0.516691        1.809525   1.732374          0.11700   \n",
      "490    -0.533178      0.733108       -0.567973  -0.535798          0.08192   \n",
      "482    -0.186680     -1.216974       -0.191495  -0.308839          0.10710   \n",
      "169     0.239341     -0.544452        0.175098   0.088198          0.09855   \n",
      "476     0.020650      0.288638        0.018164  -0.103779          0.08931   \n",
      "..           ...           ...             ...        ...              ...   \n",
      "98     -0.717787     -1.500877       -0.726143  -0.689095          0.08983   \n",
      "291     0.236501     -0.044132        0.208462   0.092180          0.08992   \n",
      "201     0.969258      0.007063        0.952769   0.843876          0.08968   \n",
      "549    -0.939318      1.144999       -0.950630  -0.834144          0.08192   \n",
      "461     3.775318      1.624375        3.910226   5.250529          0.10840   \n",
      "\n",
      "     compactness_mean  concavity_mean  concave points_mean  symmetry_mean  \\\n",
      "323           0.18750         0.25650              0.15040         0.2569   \n",
      "490           0.05200         0.01714              0.01261         0.1544   \n",
      "482           0.11550         0.05786              0.05266         0.1779   \n",
      "169           0.07885         0.02602              0.03781         0.1780   \n",
      "476           0.11080         0.05063              0.03058         0.1506   \n",
      "..                ...             ...                  ...            ...   \n",
      "98            0.07525         0.04196              0.03350         0.1620   \n",
      "291           0.09823         0.05940              0.04819         0.1879   \n",
      "201           0.11980         0.10360              0.07488         0.1506   \n",
      "549           0.06602         0.01548              0.00816         0.1976   \n",
      "461           0.19880         0.36350              0.16890         0.2061   \n",
      "\n",
      "     fractal_dimension_mean  \n",
      "323                 0.06670  \n",
      "490                 0.05976  \n",
      "482                 0.06639  \n",
      "169                 0.05650  \n",
      "476                 0.06009  \n",
      "..                      ...  \n",
      "98                  0.06582  \n",
      "291                 0.05852  \n",
      "201                 0.05491  \n",
      "549                 0.06328  \n",
      "461                 0.05623  \n",
      "\n",
      "[455 rows x 10 columns]      radius_mean  texture_mean  perimeter_mean  area_mean  smoothness_mean  \\\n",
      "3      -0.768909      0.253732       -0.592687  -0.764464          0.14250   \n",
      "520    -1.372439     -1.254207       -1.318458  -1.129362          0.13710   \n",
      "269    -0.970559      0.256059       -0.925504  -0.881641          0.10820   \n",
      "452    -0.604181      2.080480       -0.626051  -0.604056          0.08437   \n",
      "177     0.662522      0.190901        0.713866   0.506281          0.09831   \n",
      "206    -1.207427     -0.469986       -1.196536  -1.022424          0.10890   \n",
      "391    -1.531771     -0.570050       -1.511641  -1.196199          0.10390   \n",
      "209     0.324545     -1.484587        0.255419   0.200825          0.08182   \n",
      "528    -0.053194     -1.424083       -0.068336  -0.172606          0.12480   \n",
      "331    -0.325847      0.014044       -0.306827  -0.400703          0.09579   \n",
      "196    -0.101476      0.698202       -0.055155  -0.187680          0.12000   \n",
      "200    -0.538858      0.062913       -0.553145  -0.551441          0.09586   \n",
      "19     -0.166799     -1.147162       -0.185728  -0.251957          0.09779   \n",
      "190     0.026330      0.891349        0.098896  -0.127954          0.10750   \n",
      "568    -1.808401      1.221792       -1.814389  -1.347789          0.05263   \n",
      "326    -0.004911     -1.491568       -0.079869  -0.109183          0.09309   \n",
      "45      1.284513     -0.393193        1.307005   1.197683          0.10990   \n",
      "237     1.804259      0.505055        1.669479   1.851826          0.08355   \n",
      "383    -0.493416     -0.421117       -0.466645  -0.546037          0.10420   \n",
      "551    -0.851273      0.733108       -0.843535  -0.786363          0.09566   \n",
      "95      1.741776      0.870405        1.665360   1.732374          0.09078   \n",
      "102    -0.553058      0.286311       -0.607516  -0.557982          0.08013   \n",
      "344    -0.686545     -0.893512       -0.697722  -0.667195          0.11500   \n",
      "131     0.378508      0.044296        0.400820   0.267377          0.10920   \n",
      "151    -1.678039      0.328198       -1.594021  -1.282659          0.09405   \n",
      "519    -0.391170     -0.602629       -0.389619  -0.458154          0.11250   \n",
      "59     -1.564717     -1.745219       -1.549947  -1.224071          0.09752   \n",
      "310    -0.689385     -0.041805       -0.726555  -0.671746          0.08814   \n",
      "450    -0.641103      0.523672       -0.623580  -0.633919          0.06613   \n",
      "175    -1.549664     -1.126219       -1.546652  -1.216392          0.09138   \n",
      "509     0.378508      1.084495        0.487320   0.217320          0.11830   \n",
      "267    -0.152598      0.593484       -0.198085  -0.267030          0.07956   \n",
      "352     3.295334     -0.425771        3.387110   3.854074          0.11490   \n",
      "178    -0.317327      0.681912       -0.410215  -0.365436          0.06251   \n",
      "377    -0.189520      2.075826       -0.250397  -0.263902          0.07517   \n",
      "447     0.191059     -0.379230        0.161093   0.056629          0.09179   \n",
      "454    -0.428092     -0.497911       -0.467469  -0.460714          0.08583   \n",
      "392     0.387028      0.158322        0.429654   0.255431          0.11600   \n",
      "483    -0.121357     -0.383884       -0.173371  -0.238305          0.09950   \n",
      "252     1.591249      0.123416        1.595336   1.567416          0.10620   \n",
      "100    -0.146918      1.324183       -0.161426  -0.205313          0.09488   \n",
      "287    -0.351408     -1.435719       -0.415157  -0.395299          0.06955   \n",
      "93     -0.192360     -0.230298       -0.221152  -0.283810          0.10220   \n",
      "305    -0.717787      1.210157       -0.730674  -0.676012          0.07474   \n",
      "37     -0.311646     -0.202373       -0.385500  -0.372831          0.08983   \n",
      "282     1.497524     -0.258223        1.451171   1.393926          0.10370   \n",
      "298     0.037691     -0.260550       -0.030853  -0.061970          0.06576   \n",
      "266    -1.001801     -0.079038       -0.934566  -0.877375          0.09688   \n",
      "497    -0.470694     -0.460677       -0.474471  -0.497118          0.08928   \n",
      "275    -0.635423     -0.449042       -0.649530  -0.623681          0.12250   \n",
      "63     -1.407089     -1.263516       -1.349763  -1.120545          0.07721   \n",
      "545    -0.144078      0.916946       -0.196849  -0.232332          0.09246   \n",
      "417     0.389869      0.416627        0.450249   0.421527          0.11200   \n",
      "16      0.156977      0.195555        0.114137   0.084216          0.09867   \n",
      "491     1.057302     -1.410121        0.932174   0.959062          0.07838   \n",
      "198     1.435041      0.744743        1.463528   1.402458          0.08523   \n",
      "430     0.219460      0.754052        0.417297   0.085638          0.09947   \n",
      "\n",
      "     compactness_mean  concavity_mean  concave points_mean  symmetry_mean  \\\n",
      "3             0.28390        0.241400             0.105200         0.2597   \n",
      "520           0.12250        0.033320             0.024210         0.2197   \n",
      "269           0.12890        0.084480             0.028670         0.1668   \n",
      "452           0.06450        0.040550             0.019450         0.1615   \n",
      "177           0.15560        0.179300             0.088660         0.1794   \n",
      "206           0.07232        0.017560             0.019520         0.1934   \n",
      "391           0.07428        0.000000             0.000000         0.1985   \n",
      "209           0.06230        0.058920             0.031570         0.1359   \n",
      "528           0.09755        0.101000             0.066150         0.1976   \n",
      "331           0.11250        0.071070             0.029500         0.1761   \n",
      "196           0.12670        0.138500             0.065260         0.1834   \n",
      "200           0.08087        0.041870             0.041070         0.1979   \n",
      "19            0.08129        0.066640             0.047810         0.1885   \n",
      "190           0.24130        0.198100             0.066180         0.2384   \n",
      "568           0.04362        0.000000             0.000000         0.1587   \n",
      "326           0.05306        0.017650             0.027330         0.1373   \n",
      "45            0.16860        0.197400             0.100900         0.1907   \n",
      "237           0.08348        0.090420             0.060220         0.1467   \n",
      "383           0.12970        0.058920             0.028800         0.1779   \n",
      "551           0.08194        0.048240             0.022570         0.2030   \n",
      "95            0.13130        0.146500             0.086830         0.2095   \n",
      "102           0.04038        0.023830             0.017700         0.1739   \n",
      "344           0.07281        0.040060             0.032500         0.2009   \n",
      "131           0.12230        0.146600             0.080870         0.1931   \n",
      "151           0.13050        0.132100             0.021680         0.2222   \n",
      "519           0.11170        0.038800             0.029950         0.2120   \n",
      "59            0.05272        0.020610             0.007799         0.1683   \n",
      "310           0.05253        0.015830             0.011480         0.1936   \n",
      "450           0.10640        0.087770             0.023860         0.1349   \n",
      "175           0.04276        0.000000             0.000000         0.1722   \n",
      "509           0.18700        0.203000             0.085200         0.1807   \n",
      "267           0.08259        0.040720             0.021420         0.1635   \n",
      "352           0.23630        0.336800             0.191300         0.1956   \n",
      "178           0.01938        0.001595             0.001852         0.1395   \n",
      "377           0.04726        0.012710             0.011170         0.1421   \n",
      "447           0.08890        0.040690             0.022600         0.1893   \n",
      "454           0.05430        0.029660             0.022720         0.1799   \n",
      "392           0.15620        0.189100             0.091130         0.1929   \n",
      "483           0.07957        0.045480             0.031600         0.1732   \n",
      "252           0.18490        0.241700             0.097400         0.1733   \n",
      "100           0.08511        0.086250             0.044890         0.1609   \n",
      "287           0.03729        0.022600             0.011710         0.1337   \n",
      "93            0.08165        0.039740             0.027800         0.1638   \n",
      "305           0.05688        0.019740             0.013130         0.1935   \n",
      "37            0.03766        0.025620             0.029230         0.1467   \n",
      "282           0.14420        0.162600             0.094640         0.1893   \n",
      "298           0.05220        0.024750             0.013740         0.1635   \n",
      "266           0.11470        0.063870             0.026420         0.1922   \n",
      "497           0.07630        0.036090             0.023690         0.1526   \n",
      "275           0.07210        0.059290             0.074040         0.2015   \n",
      "63            0.08751        0.059880             0.021800         0.2341   \n",
      "545           0.06747        0.029740             0.024430         0.1664   \n",
      "417           0.15710        0.152200             0.084810         0.2085   \n",
      "16            0.07200        0.073950             0.052590         0.1586   \n",
      "491           0.06217        0.044450             0.041780         0.1220   \n",
      "198           0.14280        0.111400             0.067720         0.1767   \n",
      "430           0.22250        0.273300             0.097110         0.2041   \n",
      "\n",
      "     fractal_dimension_mean  \n",
      "3                   0.09744  \n",
      "520                 0.07696  \n",
      "269                 0.06862  \n",
      "452                 0.06104  \n",
      "177                 0.06323  \n",
      "206                 0.06285  \n",
      "391                 0.07098  \n",
      "209                 0.05526  \n",
      "528                 0.06457  \n",
      "331                 0.06540  \n",
      "196                 0.06877  \n",
      "200                 0.06013  \n",
      "19                  0.05766  \n",
      "190                 0.07542  \n",
      "568                 0.05884  \n",
      "326                 0.05700  \n",
      "45                  0.06049  \n",
      "237                 0.05177  \n",
      "383                 0.06588  \n",
      "551                 0.06552  \n",
      "95                  0.05649  \n",
      "102                 0.05677  \n",
      "344                 0.06506  \n",
      "131                 0.05796  \n",
      "151                 0.08261  \n",
      "519                 0.06623  \n",
      "59                  0.07187  \n",
      "310                 0.06128  \n",
      "450                 0.06612  \n",
      "175                 0.06724  \n",
      "509                 0.07083  \n",
      "267                 0.05859  \n",
      "352                 0.06121  \n",
      "178                 0.05234  \n",
      "377                 0.05763  \n",
      "447                 0.05886  \n",
      "454                 0.05826  \n",
      "392                 0.06744  \n",
      "483                 0.06088  \n",
      "252                 0.06697  \n",
      "100                 0.05871  \n",
      "287                 0.05581  \n",
      "93                  0.05710  \n",
      "305                 0.05878  \n",
      "37                  0.05863  \n",
      "282                 0.05892  \n",
      "298                 0.05586  \n",
      "266                 0.06491  \n",
      "497                 0.06046  \n",
      "275                 0.05875  \n",
      "63                  0.06963  \n",
      "545                 0.05801  \n",
      "417                 0.06864  \n",
      "16                  0.05922  \n",
      "491                 0.05243  \n",
      "198                 0.05529  \n",
      "430                 0.06898        radius_mean  texture_mean  perimeter_mean  area_mean  smoothness_mean  \\\n",
      "13      0.489274      1.084495        0.483201   0.363507          0.08401   \n",
      "36      0.034851      0.565559        0.068416  -0.062255          0.09823   \n",
      "224    -0.243483     -0.528162       -0.305591  -0.308554          0.08445   \n",
      "247    -0.351408     -1.205339       -0.289115  -0.405822          0.08760   \n",
      "537    -0.692225      1.198521       -0.642527  -0.706729          0.12360   \n",
      "274     1.080023      1.207830        0.956888   0.978402          0.08855   \n",
      "315    -0.465014     -0.567723       -0.526371  -0.492852          0.08511   \n",
      "387    -0.070234     -0.728290       -0.148245  -0.165780          0.07026   \n",
      "371     0.301824     -1.414775        0.234000   0.161860          0.07963   \n",
      "90      0.139936      1.100785        0.107134   0.022215          0.08974   \n",
      "487     1.508885     -0.109290        1.488242   1.456496          0.10890   \n",
      "458    -0.320167      1.359089       -0.385500  -0.383070          0.08369   \n",
      "546    -1.081325     -0.684076       -1.098091  -0.938523          0.09434   \n",
      "332    -0.825712      0.132725       -0.825000  -0.761051          0.10540   \n",
      "51     -0.138398     -0.686403       -0.196026  -0.236314          0.07685   \n",
      "268    -0.357089     -0.716655       -0.394974  -0.405822          0.09425   \n",
      "532    -0.127037     -0.688730       -0.173371  -0.225791          0.09277   \n",
      "12      1.432201      1.282296        1.665360   1.331355          0.09740   \n",
      "431    -0.490575     -0.374576       -0.432457  -0.532101          0.10540   \n",
      "439    -0.030472     -0.844644       -0.097993  -0.137624          0.07966   \n",
      "74     -0.516137     -0.644516       -0.526371  -0.523284          0.09172   \n",
      "132     0.577318      0.523672        0.586176   0.440582          0.10080   \n",
      "111    -0.425252      0.342161       -0.404448  -0.496265          0.09933   \n",
      "21     -1.313080     -1.593959       -1.302806  -1.083572          0.10240   \n",
      "222    -1.121087     -0.409482       -1.105917  -0.972083          0.10610   \n",
      "150    -0.320167      0.346815       -0.348429  -0.385345          0.11350   \n",
      "341    -1.284111     -0.570050       -1.249259  -1.064801          0.08481   \n",
      "345    -1.098366     -1.065715       -1.061432  -0.947908          0.09882   \n",
      "56      1.443561     -0.167467        1.381147   1.413834          0.10530   \n",
      "32      0.821570      1.091476        0.858032   0.695130          0.11970   \n",
      "128     0.276263     -0.674768        0.313497   0.055775          0.11500   \n",
      "78      1.719055      1.089149        2.130809   1.678336          0.12860   \n",
      "99      0.083133      0.111781        0.103427  -0.035236          0.09752   \n",
      "204    -0.470694     -0.160486       -0.448110  -0.491999          0.09965   \n",
      "474    -0.922277     -0.853952       -0.888021  -0.841823          0.10070   \n",
      "130    -0.550218     -1.396158       -0.530902  -0.566230          0.10660   \n",
      "554    -0.354249      2.241047       -0.390031  -0.399850          0.08123   \n",
      "481    -0.064554     -0.011554       -0.133416  -0.147862          0.07991   \n",
      "544    -0.073075      0.328198       -0.090579  -0.199341          0.09578   \n",
      "328     0.608560      0.330525        0.615010   0.451674          0.11690   \n",
      "180     3.718515      0.600465        3.712513   4.536659          0.10940   \n",
      "334    -0.518977     -0.062749       -0.580330  -0.541771          0.08313   \n",
      "464    -0.271884     -0.248914       -0.316713  -0.334435          0.07466   \n",
      "319    -0.482055     -0.532817       -0.550673  -0.505082          0.07557   \n",
      "543    -0.260524      2.040920       -0.291999  -0.331307          0.08671   \n",
      "441     0.892574      1.426574        0.841556   0.779031          0.08331   \n",
      "420    -0.726307     -0.058095       -0.731910  -0.697343          0.08546   \n",
      "304    -0.757549     -0.262877       -0.757036  -0.716114          0.08853   \n",
      "463    -0.717787     -0.216335       -0.745091  -0.688811          0.08508   \n",
      "134     1.227711      0.609773        1.162839   1.194838          0.09430   \n",
      "108     2.312645      0.088510        2.505640   2.429179          0.13260   \n",
      "18      1.613970      0.665623        1.566503   1.720997          0.09831   \n",
      "444     1.108425     -0.567723        1.051626   0.953090          0.08947   \n",
      "110    -1.235545     -0.535144       -1.213835  -1.037213          0.10370   \n",
      "66     -1.324157      0.400337       -1.312280  -1.096371          0.10440   \n",
      "358    -1.490873     -0.884204       -1.451091  -1.177143          0.08293   \n",
      "148     0.088814     -0.956343        0.082420  -0.042062          0.09970   \n",
      "\n",
      "     compactness_mean  concavity_mean  concave points_mean  symmetry_mean  \\\n",
      "13            0.10020        0.099380             0.053640         0.1847   \n",
      "36            0.10980        0.131900             0.055980         0.1885   \n",
      "224           0.04994        0.035540             0.024560         0.1496   \n",
      "247           0.13460        0.137400             0.039800         0.1596   \n",
      "537           0.15520        0.045150             0.045310         0.2131   \n",
      "274           0.07027        0.056990             0.047440         0.1538   \n",
      "315           0.03834        0.004473             0.006423         0.1215   \n",
      "387           0.04831        0.020450             0.008507         0.1607   \n",
      "371           0.06934        0.033930             0.026570         0.1721   \n",
      "90            0.08606        0.031020             0.029570         0.1685   \n",
      "487           0.14480        0.225600             0.119400         0.1823   \n",
      "458           0.05073        0.012060             0.017620         0.1667   \n",
      "546           0.04994        0.010120             0.005495         0.1885   \n",
      "332           0.06779        0.005006             0.007583         0.1940   \n",
      "51            0.06059        0.018570             0.017230         0.1353   \n",
      "268           0.06219        0.039000             0.016150         0.2010   \n",
      "532           0.07255        0.017520             0.018800         0.1631   \n",
      "12            0.24580        0.206500             0.111800         0.2397   \n",
      "431           0.13160        0.077410             0.027990         0.1811   \n",
      "439           0.05581        0.020870             0.026520         0.1589   \n",
      "74            0.06829        0.033720             0.022720         0.1720   \n",
      "132           0.12840        0.104300             0.056130         0.2160   \n",
      "111           0.12090        0.106500             0.060210         0.1735   \n",
      "21            0.06492        0.029560             0.020760         0.1815   \n",
      "222           0.08502        0.017680             0.019150         0.1910   \n",
      "150           0.07589        0.031360             0.026450         0.2540   \n",
      "341           0.09228        0.084220             0.022920         0.2036   \n",
      "345           0.09159        0.035810             0.020370         0.1633   \n",
      "56            0.12670        0.132300             0.089940         0.1917   \n",
      "32            0.14960        0.241700             0.120300         0.2248   \n",
      "128           0.18070        0.113800             0.085340         0.2001   \n",
      "78            0.34540        0.375400             0.160400         0.2906   \n",
      "99            0.11410        0.093880             0.058390         0.1879   \n",
      "204           0.10580        0.080050             0.038210         0.1925   \n",
      "474           0.10690        0.051150             0.015710         0.1861   \n",
      "130           0.09509        0.028550             0.028820         0.1880   \n",
      "554           0.05824        0.061950             0.023430         0.1566   \n",
      "481           0.05326        0.029950             0.020700         0.1579   \n",
      "544           0.10180        0.036880             0.023690         0.1620   \n",
      "328           0.13190        0.147800             0.084880         0.1948   \n",
      "180           0.19140        0.287100             0.187800         0.1800   \n",
      "334           0.04202        0.007756             0.008535         0.1539   \n",
      "464           0.05994        0.048590             0.028700         0.1454   \n",
      "319           0.03454        0.013420             0.016990         0.1472   \n",
      "543           0.06877        0.029870             0.032750         0.1628   \n",
      "441           0.11090        0.120400             0.057360         0.1467   \n",
      "420           0.07722        0.054850             0.014280         0.2031   \n",
      "304           0.07694        0.033440             0.015020         0.1411   \n",
      "463           0.05855        0.033670             0.017770         0.1516   \n",
      "134           0.09709        0.115300             0.068470         0.1692   \n",
      "108           0.27680        0.426400             0.182300         0.2556   \n",
      "18            0.10270        0.147900             0.094980         0.1582   \n",
      "444           0.12320        0.109000             0.062540         0.1720   \n",
      "110           0.08404        0.043340             0.017780         0.1584   \n",
      "66            0.07773        0.021720             0.015040         0.1717   \n",
      "358           0.07698        0.047210             0.023810         0.1930   \n",
      "148           0.10210        0.084870             0.055320         0.1724   \n",
      "\n",
      "     fractal_dimension_mean  \n",
      "13                  0.05338  \n",
      "36                  0.06125  \n",
      "224                 0.05674  \n",
      "247                 0.06409  \n",
      "537                 0.07405  \n",
      "274                 0.05510  \n",
      "315                 0.05673  \n",
      "387                 0.05474  \n",
      "371                 0.05544  \n",
      "90                  0.05866  \n",
      "487                 0.06115  \n",
      "458                 0.05449  \n",
      "546                 0.06201  \n",
      "332                 0.06028  \n",
      "51                  0.05953  \n",
      "268                 0.05769  \n",
      "532                 0.06155  \n",
      "12                  0.07800  \n",
      "431                 0.07102  \n",
      "439                 0.05586  \n",
      "74                  0.05914  \n",
      "132                 0.05891  \n",
      "111                 0.07070  \n",
      "21                  0.06905  \n",
      "222                 0.06908  \n",
      "150                 0.06087  \n",
      "341                 0.07125  \n",
      "345                 0.07005  \n",
      "56                  0.05961  \n",
      "32                  0.06382  \n",
      "128                 0.06467  \n",
      "78                  0.08142  \n",
      "99                  0.06390  \n",
      "204                 0.06373  \n",
      "474                 0.06837  \n",
      "130                 0.06471  \n",
      "554                 0.05708  \n",
      "481                 0.05594  \n",
      "544                 0.06688  \n",
      "328                 0.06277  \n",
      "180                 0.05770  \n",
      "334                 0.05945  \n",
      "464                 0.05549  \n",
      "319                 0.05561  \n",
      "543                 0.05781  \n",
      "441                 0.05407  \n",
      "420                 0.06267  \n",
      "304                 0.06243  \n",
      "463                 0.05859  \n",
      "134                 0.05727  \n",
      "108                 0.07039  \n",
      "18                  0.05395  \n",
      "444                 0.05780  \n",
      "110                 0.07065  \n",
      "66                  0.06899  \n",
      "358                 0.06621  \n",
      "148                 0.06081  \n"
     ]
    }
   ],
   "source": [
    "train_ratio = 0.80\n",
    "validation_ratio = 0.10\n",
    "test_ratio = 0.10\n",
    "from sklearn.model_selection import train_test_split\n",
    "# train is now 80% of the entire data set\n",
    "x1_train, x1_test, y1_train, y1_test = train_test_split(x1, y1, test_size=1 - train_ratio)\n",
    "\n",
    "# test is now 10% of the initial data set\n",
    "# validation is now 10% of the initial data set\n",
    "x1_val, x1_test, y1_val, y1_test = train_test_split(x1_test, y1_test, test_size=test_ratio/(test_ratio + validation_ratio)) \n",
    "\n",
    "print(x1_train, x1_val, x1_test)"
   ]
  },
  {
   "cell_type": "markdown",
   "id": "e9c06ae8",
   "metadata": {},
   "source": [
    "Reduced data"
   ]
  },
  {
   "cell_type": "code",
   "execution_count": 9,
   "id": "64c7b155",
   "metadata": {},
   "outputs": [],
   "source": [
    "x2 = df2.iloc[:, 0:5]\n",
    "y2 = df2.iloc[:, 5]"
   ]
  },
  {
   "cell_type": "code",
   "execution_count": 10,
   "id": "bb3ce30a",
   "metadata": {},
   "outputs": [
    {
     "name": "stdout",
     "output_type": "stream",
     "text": [
      "     radius_mean  perimeter_mean  area_mean  concavity_mean  \\\n",
      "139    -0.808671       -0.781338  -0.768161         0.04635   \n",
      "446     1.028901        1.043388   0.929199         0.16980   \n",
      "393     2.125195        2.159642   2.139081         0.28100   \n",
      "212     3.971288        3.976130   5.244841         0.32010   \n",
      "433     1.332796        1.307005   1.294382         0.15940   \n",
      "..           ...             ...        ...             ...   \n",
      "160    -0.675185       -0.653649  -0.668618         0.06843   \n",
      "110    -1.235545       -1.213835  -1.037213         0.04334   \n",
      "343     1.577048        1.562384   1.533287         0.18630   \n",
      "118     0.469393        0.565581   0.363223         0.21330   \n",
      "455    -0.212241       -0.231861  -0.277838         0.02819   \n",
      "\n",
      "     concave points_mean  \n",
      "139              0.04796  \n",
      "446              0.08293  \n",
      "393              0.15620  \n",
      "212              0.15950  \n",
      "433              0.08744  \n",
      "..                   ...  \n",
      "160              0.03738  \n",
      "110              0.01778  \n",
      "343              0.11030  \n",
      "118              0.09479  \n",
      "455              0.03264  \n",
      "\n",
      "[455 rows x 5 columns]      radius_mean  perimeter_mean  area_mean  concavity_mean  \\\n",
      "435    -0.041833       -0.034972  -0.157532        0.112600   \n",
      "24      0.716485        0.742699   0.710203        0.152500   \n",
      "72      0.872693        0.915698   0.780737        0.169200   \n",
      "48     -0.589980       -0.573740  -0.584717        0.065920   \n",
      "314    -1.570681       -1.560245  -1.233456        0.000000   \n",
      "99      0.083133        0.103427  -0.035236        0.093880   \n",
      "318    -1.444295       -1.313928  -1.167189        0.197500   \n",
      "188    -0.658144       -0.687837  -0.642736        0.023530   \n",
      "537    -0.692225       -0.642527  -0.706729        0.045150   \n",
      "84     -0.604181       -0.618637  -0.601781        0.041510   \n",
      "324    -0.547378       -0.574975  -0.560257        0.019940   \n",
      "493    -0.473535       -0.541199  -0.505082        0.007173   \n",
      "136    -0.686545       -0.710491  -0.657810        0.035920   \n",
      "67     -0.800151       -0.830767  -0.741711        0.037090   \n",
      "53      1.162387        1.166958   1.075386        0.177200   \n",
      "230     0.830091        0.882746   0.682900        0.191000   \n",
      "187    -0.686545       -0.712139  -0.667195        0.038090   \n",
      "315    -0.465014       -0.526371  -0.492852        0.004473   \n",
      "233     1.812780        1.747740   1.888800        0.155400   \n",
      "348    -0.754709       -0.780514  -0.717252        0.025870   \n",
      "228    -0.428092       -0.437400  -0.450759        0.054380   \n",
      "482    -0.186680       -0.191495  -0.308839        0.057860   \n",
      "201     0.969258        0.952769   0.843876        0.103600   \n",
      "406     0.571638        0.507915   0.412710        0.055000   \n",
      "542     0.174018        0.112489   0.038995        0.041050   \n",
      "37     -0.311646       -0.385500  -0.372831        0.025620   \n",
      "377    -0.189520       -0.250397  -0.263902        0.012710   \n",
      "114    -1.534044       -1.488162  -1.205869        0.041320   \n",
      "273    -1.245485       -1.255026  -1.038066        0.011030   \n",
      "281    -0.678025       -0.730262  -0.647287        0.022450   \n",
      "207     0.818730        0.730342   0.709350        0.069500   \n",
      "336    -0.323007       -0.324951  -0.399850        0.037380   \n",
      "34      0.568798        0.619129   0.433188        0.135400   \n",
      "185    -1.149488       -1.161936  -0.959569        0.001597   \n",
      "401    -0.624062       -0.652001  -0.603488        0.026060   \n",
      "0       1.097064        1.269934   0.984375        0.300100   \n",
      "394    -0.575780       -0.572504  -0.593533        0.047830   \n",
      "184     0.327386        0.286312   0.158448        0.053750   \n",
      "18      1.613970        1.566503   1.720997        0.147900   \n",
      "156     1.009020        1.047507   0.878290        0.185500   \n",
      "441     0.892574        0.841556   0.779031        0.120400   \n",
      "63     -1.407089       -1.349763  -1.120545        0.059880   \n",
      "523    -0.118517       -0.133416  -0.238589        0.053850   \n",
      "10      0.537556        0.442011   0.406453        0.032990   \n",
      "480    -0.558739       -0.563442  -0.567652        0.029160   \n",
      "464    -0.271884       -0.316713  -0.334435        0.048590   \n",
      "411    -0.876835       -0.867014  -0.801153        0.030460   \n",
      "391    -1.531771       -1.511641  -1.196199        0.000000   \n",
      "204    -0.470694       -0.448110  -0.491999        0.080050   \n",
      "277     1.329956        1.191672   1.271629        0.080200   \n",
      "56      1.443561        1.381147   1.413834        0.132300   \n",
      "211    -0.649623       -0.677951  -0.645296        0.026690   \n",
      "153    -0.845593       -0.869073  -0.776409        0.019820   \n",
      "365     1.792899        1.723026   1.814853        0.097990   \n",
      "158    -0.587140       -0.623168  -0.586707        0.019720   \n",
      "392     0.387028        0.429654   0.255431        0.189100   \n",
      "279    -0.078755       -0.122707  -0.191946        0.044790   \n",
      "\n",
      "     concave points_mean  \n",
      "435             0.064630  \n",
      "24              0.091700  \n",
      "72              0.079440  \n",
      "48              0.027490  \n",
      "314             0.000000  \n",
      "99              0.058390  \n",
      "318             0.049080  \n",
      "188             0.015530  \n",
      "537             0.045310  \n",
      "84              0.018630  \n",
      "324             0.016920  \n",
      "493             0.011490  \n",
      "136             0.026000  \n",
      "67              0.022300  \n",
      "53              0.106000  \n",
      "230             0.109000  \n",
      "187             0.032390  \n",
      "315             0.006423  \n",
      "233             0.083400  \n",
      "348             0.023220  \n",
      "228             0.020360  \n",
      "482             0.052660  \n",
      "201             0.074880  \n",
      "406             0.045280  \n",
      "542             0.030270  \n",
      "37              0.029230  \n",
      "377             0.011170  \n",
      "114             0.019240  \n",
      "273             0.014070  \n",
      "281             0.027630  \n",
      "207             0.053900  \n",
      "336             0.020980  \n",
      "34              0.077520  \n",
      "185             0.002404  \n",
      "401             0.017960  \n",
      "0               0.147100  \n",
      "394             0.033260  \n",
      "184             0.032630  \n",
      "18              0.094980  \n",
      "156             0.105400  \n",
      "441             0.057360  \n",
      "63              0.021800  \n",
      "523             0.037830  \n",
      "10              0.033230  \n",
      "480             0.015270  \n",
      "464             0.028700  \n",
      "411             0.024800  \n",
      "391             0.000000  \n",
      "204             0.038210  \n",
      "277             0.058430  \n",
      "56              0.089940  \n",
      "211             0.013930  \n",
      "153             0.017860  \n",
      "365             0.077850  \n",
      "158             0.019630  \n",
      "392             0.091130  \n",
      "279             0.037110        radius_mean  perimeter_mean  area_mean  concavity_mean  \\\n",
      "337     1.318595        1.274053   1.243188        0.106000   \n",
      "370     0.631281        0.701509   0.527612        0.181100   \n",
      "321     1.713375        1.611812   1.760815        0.115500   \n",
      "396    -0.175320       -0.159366  -0.275278        0.085800   \n",
      "492     1.102744        1.088697   1.001440        0.117000   \n",
      "152    -1.248609       -1.161112  -1.008772        0.410800   \n",
      "520    -1.372439       -1.318458  -1.129362        0.033320   \n",
      "535     1.824140        1.887787   1.857514        0.208500   \n",
      "202     2.602339        2.756900   2.929741        0.352300   \n",
      "398    -0.871154       -0.892140  -0.786932        0.027120   \n",
      "518    -0.354249       -0.309710  -0.460145        0.048250   \n",
      "35      0.742046        0.746818   0.610375        0.134800   \n",
      "546    -1.081325       -1.098091  -0.938523        0.010120   \n",
      "499     1.835501        1.887787   1.891644        0.218800   \n",
      "429    -0.399691       -0.452640  -0.436823        0.014020   \n",
      "507    -0.871154       -0.853421  -0.820208        0.040630   \n",
      "43     -0.240643       -0.191495  -0.311967        0.098470   \n",
      "260     1.755977        1.685955   1.800632        0.151900   \n",
      "543    -0.260524       -0.291999  -0.331307        0.029870   \n",
      "527    -0.507616       -0.536668  -0.530110        0.029580   \n",
      "167     0.753407        0.713866   0.658156        0.084220   \n",
      "483    -0.121357       -0.173371  -0.238305        0.045480   \n",
      "166    -0.944998       -0.955573  -0.845521        0.025310   \n",
      "21     -1.313080       -1.302806  -1.083572        0.029560   \n",
      "254     1.511725        1.422337   1.462184        0.137900   \n",
      "253     0.901094        0.866270   0.777324        0.126600   \n",
      "150    -0.320167       -0.348429  -0.385345        0.031360   \n",
      "55     -0.740508       -0.767334  -0.699334        0.030360   \n",
      "140    -1.246621       -1.265735  -1.042048        0.000000   \n",
      "73     -0.092956       -0.063393  -0.201331        0.077890   \n",
      "285    -0.439453       -0.500009  -0.471806        0.001860   \n",
      "303    -1.033042       -1.034246  -0.911788        0.022970   \n",
      "192    -1.251733       -1.286742  -1.043186        0.000000   \n",
      "149    -0.109996       -0.158542  -0.198772        0.028810   \n",
      "81     -0.223602       -0.225682  -0.383638        0.116900   \n",
      "190     0.026330        0.098896  -0.127954        0.198100   \n",
      "304    -0.757549       -0.757036  -0.716114        0.033440   \n",
      "36      0.034851        0.068416  -0.062255        0.131900   \n",
      "489     0.727846        0.623248   0.576531        0.036490   \n",
      "550    -0.927957       -0.966282  -0.837273        0.000000   \n",
      "183    -0.771749       -0.759507  -0.719243        0.061810   \n",
      "117     0.210940        0.274778   0.078528        0.169000   \n",
      "210     1.832661        1.760097   1.806321        0.164000   \n",
      "239     0.946536        0.882746   0.755709        0.141700   \n",
      "50     -0.672344       -0.710491  -0.645580        0.016570   \n",
      "146    -0.660984       -0.534609  -0.633919        0.165900   \n",
      "274     1.080023        0.956888   0.978402        0.056990   \n",
      "442    -0.098636       -0.148245  -0.196212        0.010550   \n",
      "215    -0.075915       -0.041562  -0.216121        0.099010   \n",
      "375     0.580158        0.590295   0.380003        0.066510   \n",
      "512    -0.206561       -0.137124  -0.279260        0.144500   \n",
      "305    -0.717787       -0.730674  -0.676012        0.019740   \n",
      "287    -0.351408       -0.415157  -0.395299        0.022600   \n",
      "289    -0.783110       -0.815526  -0.736307        0.023990   \n",
      "302     1.693494        1.760097   1.684024        0.228300   \n",
      "334    -0.518977       -0.580330  -0.541771        0.007756   \n",
      "82      3.150487        3.275896   3.478653        0.333900   \n",
      "\n",
      "     concave points_mean  \n",
      "337             0.060900  \n",
      "370             0.087730  \n",
      "321             0.077260  \n",
      "396             0.053810  \n",
      "492             0.077620  \n",
      "152             0.078570  \n",
      "520             0.024210  \n",
      "535             0.132200  \n",
      "202             0.162000  \n",
      "398             0.007246  \n",
      "518             0.053030  \n",
      "35              0.060180  \n",
      "546             0.005495  \n",
      "499             0.112100  \n",
      "429             0.018350  \n",
      "507             0.042680  \n",
      "43              0.061580  \n",
      "260             0.093330  \n",
      "543             0.032750  \n",
      "527             0.026470  \n",
      "167             0.065760  \n",
      "483             0.031600  \n",
      "166             0.016980  \n",
      "21              0.020760  \n",
      "254             0.085910  \n",
      "253             0.083530  \n",
      "150             0.026450  \n",
      "55              0.022780  \n",
      "140             0.000000  \n",
      "73              0.050690  \n",
      "285             0.002924  \n",
      "303             0.017800  \n",
      "192             0.000000  \n",
      "149             0.013290  \n",
      "81              0.069870  \n",
      "190             0.066180  \n",
      "304             0.015020  \n",
      "36              0.055980  \n",
      "489             0.023070  \n",
      "550             0.000000  \n",
      "183             0.023610  \n",
      "117             0.089230  \n",
      "210             0.095610  \n",
      "239             0.088110  \n",
      "50              0.011150  \n",
      "146             0.074150  \n",
      "274             0.047440  \n",
      "442             0.009937  \n",
      "215             0.056020  \n",
      "375             0.053970  \n",
      "512             0.081720  \n",
      "305             0.013130  \n",
      "287             0.011710  \n",
      "289             0.021730  \n",
      "302             0.128000  \n",
      "334             0.008535  \n",
      "82              0.184500  \n"
     ]
    }
   ],
   "source": [
    "x2_train, x2_test, y2_train, y2_test = train_test_split(x2, y2, test_size=1 - train_ratio)\n",
    "\n",
    "\n",
    "x2_val, x2_test, y2_val, y2_test = train_test_split(x2_test, y2_test, test_size=test_ratio/(test_ratio + validation_ratio), random_state=0) \n",
    "\n",
    "print(x2_train, x2_val, x2_test)"
   ]
  },
  {
   "cell_type": "code",
   "execution_count": null,
   "id": "bee07c39",
   "metadata": {},
   "outputs": [],
   "source": []
  },
  {
   "cell_type": "markdown",
   "id": "c3a5c82f",
   "metadata": {},
   "source": [
    "Step 4.1:\n",
    "\n",
    "Runs both sets through their Classifiers"
   ]
  },
  {
   "cell_type": "markdown",
   "id": "e481944f",
   "metadata": {},
   "source": [
    "Non Reduced KNN Optimization"
   ]
  },
  {
   "cell_type": "code",
   "execution_count": 11,
   "id": "13019e2b",
   "metadata": {},
   "outputs": [],
   "source": [
    "from sklearn.neighbors import KNeighborsClassifier\n",
    "scores1 = []\n",
    "for i in range(1,100):\n",
    "    knn = KNeighborsClassifier(n_neighbors=i)\n",
    "    knn.fit(x1_train,y1_train)\n",
    "    score_i = knn.score(x1_test,y1_test)\n",
    "    scores1.append(score_i)"
   ]
  },
  {
   "cell_type": "code",
   "execution_count": 12,
   "id": "66b55328",
   "metadata": {
    "scrolled": true
   },
   "outputs": [
    {
     "data": {
      "text/plain": [
       "Text(0, 0.5, 'Accuracy')"
      ]
     },
     "execution_count": 12,
     "metadata": {},
     "output_type": "execute_result"
    },
    {
     "data": {
      "image/png": "[encoded data removed]",
      "text/plain": [
       "<Figure size 1152x432 with 1 Axes>"
      ]
     },
     "metadata": {
      "needs_background": "light"
     },
     "output_type": "display_data"
    }
   ],
   "source": [
    "plt.figure(figsize =(16,6))\n",
    "plt.plot(range(1,100),scores1,color = 'green')\n",
    "plt.title('Accuracy vs: K Value')\n",
    "plt.xlabel('K_Value')\n",
    "plt.ylabel('Accuracy')"
   ]
  },
  {
   "cell_type": "code",
   "execution_count": 13,
   "id": "2c10d079",
   "metadata": {},
   "outputs": [
    {
     "name": "stdout",
     "output_type": "stream",
     "text": [
      "35\n"
     ]
    }
   ],
   "source": [
    "kn1= max(scores1)\n",
    "best_knn1 = scores1.index(kn1)+1\n",
    "print(best_knn1)"
   ]
  },
  {
   "cell_type": "markdown",
   "id": "7d2b7b11",
   "metadata": {},
   "source": [
    "Reduced KNN Optimization"
   ]
  },
  {
   "cell_type": "code",
   "execution_count": 14,
   "id": "8b0ed709",
   "metadata": {},
   "outputs": [],
   "source": [
    "scores2 = []\n",
    "for i in range(1,100):\n",
    "    knn = KNeighborsClassifier(n_neighbors=i)\n",
    "    knn.fit(x2_train,y2_train)\n",
    "    score_i = knn.score(x2_test,y2_test)\n",
    "    scores2.append(score_i)"
   ]
  },
  {
   "cell_type": "code",
   "execution_count": 15,
   "id": "777320a5",
   "metadata": {},
   "outputs": [
    {
     "data": {
      "text/plain": [
       "Text(0, 0.5, 'Accuracy')"
      ]
     },
     "execution_count": 15,
     "metadata": {},
     "output_type": "execute_result"
    },
    {
     "data": {
      "image/png": "[encoded data removed]",
      "text/plain": [
       "<Figure size 1152x432 with 1 Axes>"
      ]
     },
     "metadata": {
      "needs_background": "light"
     },
     "output_type": "display_data"
    }
   ],
   "source": [
    "plt.figure(figsize =(16,6))\n",
    "plt.plot(range(1,100),scores2,color = 'green')\n",
    "plt.title('Accuracy vs: K Value')\n",
    "plt.xlabel('K_Value')\n",
    "plt.ylabel('Accuracy')"
   ]
  },
  {
   "cell_type": "code",
   "execution_count": 16,
   "id": "76285f2c",
   "metadata": {},
   "outputs": [
    {
     "name": "stdout",
     "output_type": "stream",
     "text": [
      "7\n"
     ]
    }
   ],
   "source": [
    "kn2=max(scores2)\n",
    "best_knn2 = scores2.index(kn2)+1\n",
    "print(best_knn2)"
   ]
  },
  {
   "cell_type": "markdown",
   "id": "7049df39",
   "metadata": {},
   "source": [
    "KNN Non-Reduced and Score+Matrix"
   ]
  },
  {
   "cell_type": "code",
   "execution_count": 17,
   "id": "08b8a0f6",
   "metadata": {
    "scrolled": false
   },
   "outputs": [
    {
     "name": "stdout",
     "output_type": "stream",
     "text": [
      "0.9298245614035088\n"
     ]
    },
    {
     "data": {
      "text/plain": [
       "Text(0.5, 1.0, 'KNN Non-Reduced Predictions')"
      ]
     },
     "execution_count": 17,
     "metadata": {},
     "output_type": "execute_result"
    },
    {
     "data": {
      "image/png": "[encoded data removed]",
      "text/plain": [
       "<Figure size 432x288 with 2 Axes>"
      ]
     },
     "metadata": {
      "needs_background": "light"
     },
     "output_type": "display_data"
    }
   ],
   "source": [
    "best_knn_model1 = KNeighborsClassifier(n_neighbors = best_knn1)\n",
    "best_knn_model1.fit(x1_train, y1_train)\n",
    "\n",
    "predictions_best1 = best_knn_model1.predict(x1_test)\n",
    "\n",
    "print(best_knn_model1.score(x1_val,y1_val))\n",
    "sns.heatmap(confusion_matrix(y1_test,predictions_best1), \n",
    "           annot = True).set_title(\"KNN Non-Reduced Predictions\")"
   ]
  },
  {
   "cell_type": "markdown",
   "id": "707b4db4",
   "metadata": {},
   "source": [
    "KNN Reduced and Score+Matrix"
   ]
  },
  {
   "cell_type": "code",
   "execution_count": 18,
   "id": "96a7af65",
   "metadata": {},
   "outputs": [
    {
     "name": "stdout",
     "output_type": "stream",
     "text": [
      "0.9649122807017544\n"
     ]
    },
    {
     "data": {
      "text/plain": [
       "Text(0.5, 1.0, 'KNN Reduced Predictions')"
      ]
     },
     "execution_count": 18,
     "metadata": {},
     "output_type": "execute_result"
    },
    {
     "data": {
      "image/png": "[encoded data removed]",
      "text/plain": [
       "<Figure size 432x288 with 2 Axes>"
      ]
     },
     "metadata": {
      "needs_background": "light"
     },
     "output_type": "display_data"
    }
   ],
   "source": [
    "best_knn_model2 = KNeighborsClassifier(n_neighbors = best_knn2)\n",
    "best_knn_model2.fit(x2_train, y2_train)\n",
    "\n",
    "predictions_best2 = best_knn_model2.predict(x2_test)\n",
    "\n",
    "print(best_knn_model2.score(x2_val,y2_val))\n",
    "sns.heatmap(confusion_matrix(y2_test,predictions_best2), \n",
    "           annot = True).set_title(\"KNN Reduced Predictions\")"
   ]
  },
  {
   "cell_type": "markdown",
   "id": "b1b6926b",
   "metadata": {},
   "source": [
    "Random Forest Classication Non-Reduced and Score+Matrix"
   ]
  },
  {
   "cell_type": "code",
   "execution_count": 19,
   "id": "2250dbea",
   "metadata": {},
   "outputs": [
    {
     "name": "stdout",
     "output_type": "stream",
     "text": [
      "0.9473684210526315\n"
     ]
    },
    {
     "data": {
      "text/plain": [
       "Text(0.5, 1.0, 'Random Forest Non-Reduced Predictions')"
      ]
     },
     "execution_count": 19,
     "metadata": {},
     "output_type": "execute_result"
    },
    {
     "data": {
      "image/png": "[encoded data removed]",
      "text/plain": [
       "<Figure size 432x288 with 2 Axes>"
      ]
     },
     "metadata": {
      "needs_background": "light"
     },
     "output_type": "display_data"
    }
   ],
   "source": [
    "from sklearn.ensemble import RandomForestClassifier \n",
    "RFmodel1 = RandomForestClassifier(n_estimators=100, criterion='gini')\n",
    "RFmodel1.fit(x1_train, y1_train)\n",
    "RFy1_pred = RFmodel1.predict(x1_test)\n",
    "    \n",
    "RFscore1 = RFmodel1.score(x1_val,y1_val)\n",
    "print(RFscore1)\n",
    "sns.heatmap(confusion_matrix(y1_test,RFy1_pred), \n",
    "           annot = True).set_title(\"Random Forest Non-Reduced Predictions\")"
   ]
  },
  {
   "cell_type": "markdown",
   "id": "66435f4b",
   "metadata": {},
   "source": [
    "Random Forest Classification Reduced and Score+Matrix"
   ]
  },
  {
   "cell_type": "code",
   "execution_count": 20,
   "id": "39be131c",
   "metadata": {},
   "outputs": [
    {
     "name": "stdout",
     "output_type": "stream",
     "text": [
      "0.9473684210526315\n"
     ]
    },
    {
     "data": {
      "text/plain": [
       "Text(0.5, 1.0, 'Random Forest Reduced Predictions')"
      ]
     },
     "execution_count": 20,
     "metadata": {},
     "output_type": "execute_result"
    },
    {
     "data": {
      "image/png": "[encoded data removed]",
      "text/plain": [
       "<Figure size 432x288 with 2 Axes>"
      ]
     },
     "metadata": {
      "needs_background": "light"
     },
     "output_type": "display_data"
    }
   ],
   "source": [
    "RFmodel2 = RandomForestClassifier(n_estimators=100, criterion='gini')\n",
    "RFmodel2.fit(x2_train, y2_train)\n",
    "RFy2_pred = RFmodel2.predict(x2_test)\n",
    "    \n",
    "RFscore2 = RFmodel2.score(x2_val,y2_val)\n",
    "print(RFscore2)\n",
    "sns.heatmap(confusion_matrix(y1_test,RFy1_pred), \n",
    "           annot = True).set_title(\"Random Forest Reduced Predictions\")"
   ]
  },
  {
   "cell_type": "markdown",
   "id": "d90efb29",
   "metadata": {},
   "source": [
    "SVC Non Reduced and Score + Matrix"
   ]
  },
  {
   "cell_type": "code",
   "execution_count": 25,
   "id": "a7cc4437",
   "metadata": {},
   "outputs": [
    {
     "name": "stdout",
     "output_type": "stream",
     "text": [
      "0.9473684210526315\n"
     ]
    },
    {
     "data": {
      "text/plain": [
       "Text(0.5, 1.0, 'SVC Non-Reduced Predictions')"
      ]
     },
     "execution_count": 25,
     "metadata": {},
     "output_type": "execute_result"
    },
    {
     "data": {
      "image/png": "[encoded data removed]",
      "text/plain": [
       "<Figure size 432x288 with 2 Axes>"
      ]
     },
     "metadata": {
      "needs_background": "light"
     },
     "output_type": "display_data"
    }
   ],
   "source": [
    "from sklearn.svm import SVC\n",
    "from sklearn import datasets\n",
    "    \n",
    "S1classifier = SVC(kernel='rbf',C=1,gamma='auto')\n",
    "S1model = S1classifier.fit(x1_train, y1_train)\n",
    "Sy1_pred = S1classifier.predict(x1_test)\n",
    "Sscore1 = S1model.score(x1_val,y1_val) #Gets the accuracy of our end result\n",
    "\n",
    "print(Sscore1)\n",
    "sns.heatmap(confusion_matrix(y1_test,Sy1_pred), \n",
    "           annot = True).set_title(\"SVC Non-Reduced Predictions\")"
   ]
  },
  {
   "cell_type": "markdown",
   "id": "018dbe5a",
   "metadata": {},
   "source": [
    "SVC Reduced and Score+Matrix"
   ]
  },
  {
   "cell_type": "code",
   "execution_count": 34,
   "id": "4d40fb72",
   "metadata": {},
   "outputs": [
    {
     "name": "stdout",
     "output_type": "stream",
     "text": [
      "0.9298245614035088\n"
     ]
    },
    {
     "data": {
      "text/plain": [
       "Text(0.5, 1.0, 'SVC Non-Reduced Predictions')"
      ]
     },
     "execution_count": 34,
     "metadata": {},
     "output_type": "execute_result"
    },
    {
     "data": {
      "image/png": "[encoded data removed]",
      "text/plain": [
       "<Figure size 432x288 with 2 Axes>"
      ]
     },
     "metadata": {
      "needs_background": "light"
     },
     "output_type": "display_data"
    }
   ],
   "source": [
    "S2classifier = SVC(kernel='rbf',C=1,gamma='auto')\n",
    "S2model = S2classifier.fit(x2_train, y2_train)\n",
    "Sy2_pred = S2classifier.predict(x2_test)\n",
    "Sscore2 = S2model.score(x2_val,y2_val) #Gets the accuracy of our end result\n",
    "\n",
    "print(Sscore2)\n",
    "sns.heatmap(confusion_matrix(y2_test,Sy2_pred), \n",
    "           annot = True).set_title(\"SVC Non-Reduced Predictions\")"
   ]
  },
  {
   "cell_type": "markdown",
   "id": "7bd74bbc",
   "metadata": {},
   "source": [
    "Step4.2:"
   ]
  },
  {
   "cell_type": "markdown",
   "id": "a9d573e2",
   "metadata": {},
   "source": [
    "At the end of the day out of all of them the most consistent I got was the KNN Reduced as almost always it ended up at 92-96% while the others would change between 84-95% even while changing values and information "
   ]
  },
  {
   "cell_type": "markdown",
   "id": "b4a4121a",
   "metadata": {},
   "source": [
    "Step 5:\n",
    "\n",
    "I decided to try and only remove things below 0.7 instead of 0.6 for these ones.\n",
    "\n",
    "After going through it all it seems that SVC actually has the highest chance of being correct, its just that I may have removed the columns from before this a bit to thoroughly and lowered my chances for most of my predicitions."
   ]
  },
  {
   "cell_type": "code",
   "execution_count": 35,
   "id": "47a468fb",
   "metadata": {},
   "outputs": [
    {
     "data": {
      "text/plain": [
       "radius_mean            0.730029\n",
       "perimeter_mean         0.742636\n",
       "area_mean              0.708984\n",
       "concave points_mean    0.776614\n",
       "diagnosis_encoded      1.000000\n",
       "Name: diagnosis_encoded, dtype: float64"
      ]
     },
     "execution_count": 35,
     "metadata": {},
     "output_type": "execute_result"
    }
   ],
   "source": [
    "a2=df[df.columns[1:]].corr() ['diagnosis_encoded'][:]\n",
    "result2=a[abs(a2)>0.7]\n",
    "result2"
   ]
  },
  {
   "cell_type": "code",
   "execution_count": 37,
   "id": "40e0b9f5",
   "metadata": {},
   "outputs": [],
   "source": [
    "df3=df.copy()\n",
    "df3 = df3.drop(['Unnamed: 0','diagnosis','texture_mean', 'smoothness_mean', 'compactness_mean','concavity_mean','symmetry_mean','fractal_dimension_mean'], axis='columns')"
   ]
  },
  {
   "cell_type": "code",
   "execution_count": 38,
   "id": "97b9a17c",
   "metadata": {},
   "outputs": [
    {
     "data": {
      "text/html": [
       "<div>\n",
       "<style scoped>\n",
       "    .dataframe tbody tr th:only-of-type {\n",
       "        vertical-align: middle;\n",
       "    }\n",
       "\n",
       "    .dataframe tbody tr th {\n",
       "        vertical-align: top;\n",
       "    }\n",
       "\n",
       "    .dataframe thead th {\n",
       "        text-align: right;\n",
       "    }\n",
       "</style>\n",
       "<table border=\"1\" class=\"dataframe\">\n",
       "  <thead>\n",
       "    <tr style=\"text-align: right;\">\n",
       "      <th></th>\n",
       "      <th>radius_mean</th>\n",
       "      <th>perimeter_mean</th>\n",
       "      <th>area_mean</th>\n",
       "      <th>concave points_mean</th>\n",
       "      <th>diagnosis_encoded</th>\n",
       "    </tr>\n",
       "  </thead>\n",
       "  <tbody>\n",
       "    <tr>\n",
       "      <th>0</th>\n",
       "      <td>1.097064</td>\n",
       "      <td>1.269934</td>\n",
       "      <td>0.984375</td>\n",
       "      <td>0.14710</td>\n",
       "      <td>1</td>\n",
       "    </tr>\n",
       "    <tr>\n",
       "      <th>1</th>\n",
       "      <td>1.829821</td>\n",
       "      <td>1.685955</td>\n",
       "      <td>1.908708</td>\n",
       "      <td>0.07017</td>\n",
       "      <td>1</td>\n",
       "    </tr>\n",
       "    <tr>\n",
       "      <th>2</th>\n",
       "      <td>1.579888</td>\n",
       "      <td>1.566503</td>\n",
       "      <td>1.558884</td>\n",
       "      <td>0.12790</td>\n",
       "      <td>1</td>\n",
       "    </tr>\n",
       "    <tr>\n",
       "      <th>3</th>\n",
       "      <td>-0.768909</td>\n",
       "      <td>-0.592687</td>\n",
       "      <td>-0.764464</td>\n",
       "      <td>0.10520</td>\n",
       "      <td>1</td>\n",
       "    </tr>\n",
       "    <tr>\n",
       "      <th>4</th>\n",
       "      <td>1.750297</td>\n",
       "      <td>1.776573</td>\n",
       "      <td>1.826229</td>\n",
       "      <td>0.10430</td>\n",
       "      <td>1</td>\n",
       "    </tr>\n",
       "    <tr>\n",
       "      <th>...</th>\n",
       "      <td>...</td>\n",
       "      <td>...</td>\n",
       "      <td>...</td>\n",
       "      <td>...</td>\n",
       "      <td>...</td>\n",
       "    </tr>\n",
       "    <tr>\n",
       "      <th>564</th>\n",
       "      <td>2.110995</td>\n",
       "      <td>2.060786</td>\n",
       "      <td>2.343856</td>\n",
       "      <td>0.13890</td>\n",
       "      <td>1</td>\n",
       "    </tr>\n",
       "    <tr>\n",
       "      <th>565</th>\n",
       "      <td>1.704854</td>\n",
       "      <td>1.615931</td>\n",
       "      <td>1.723842</td>\n",
       "      <td>0.09791</td>\n",
       "      <td>1</td>\n",
       "    </tr>\n",
       "    <tr>\n",
       "      <th>566</th>\n",
       "      <td>0.702284</td>\n",
       "      <td>0.672676</td>\n",
       "      <td>0.577953</td>\n",
       "      <td>0.05302</td>\n",
       "      <td>1</td>\n",
       "    </tr>\n",
       "    <tr>\n",
       "      <th>567</th>\n",
       "      <td>1.838341</td>\n",
       "      <td>1.982524</td>\n",
       "      <td>1.735218</td>\n",
       "      <td>0.15200</td>\n",
       "      <td>1</td>\n",
       "    </tr>\n",
       "    <tr>\n",
       "      <th>568</th>\n",
       "      <td>-1.808401</td>\n",
       "      <td>-1.814389</td>\n",
       "      <td>-1.347789</td>\n",
       "      <td>0.00000</td>\n",
       "      <td>0</td>\n",
       "    </tr>\n",
       "  </tbody>\n",
       "</table>\n",
       "<p>569 rows × 5 columns</p>\n",
       "</div>"
      ],
      "text/plain": [
       "     radius_mean  perimeter_mean  area_mean  concave points_mean  \\\n",
       "0       1.097064        1.269934   0.984375              0.14710   \n",
       "1       1.829821        1.685955   1.908708              0.07017   \n",
       "2       1.579888        1.566503   1.558884              0.12790   \n",
       "3      -0.768909       -0.592687  -0.764464              0.10520   \n",
       "4       1.750297        1.776573   1.826229              0.10430   \n",
       "..           ...             ...        ...                  ...   \n",
       "564     2.110995        2.060786   2.343856              0.13890   \n",
       "565     1.704854        1.615931   1.723842              0.09791   \n",
       "566     0.702284        0.672676   0.577953              0.05302   \n",
       "567     1.838341        1.982524   1.735218              0.15200   \n",
       "568    -1.808401       -1.814389  -1.347789              0.00000   \n",
       "\n",
       "     diagnosis_encoded  \n",
       "0                    1  \n",
       "1                    1  \n",
       "2                    1  \n",
       "3                    1  \n",
       "4                    1  \n",
       "..                 ...  \n",
       "564                  1  \n",
       "565                  1  \n",
       "566                  1  \n",
       "567                  1  \n",
       "568                  0  \n",
       "\n",
       "[569 rows x 5 columns]"
      ]
     },
     "execution_count": 38,
     "metadata": {},
     "output_type": "execute_result"
    }
   ],
   "source": [
    "df3"
   ]
  },
  {
   "cell_type": "code",
   "execution_count": 39,
   "id": "c14a14f0",
   "metadata": {},
   "outputs": [],
   "source": [
    "x3 = df3.iloc[:, 0:4]\n",
    "y3 = df3.iloc[:, 4]"
   ]
  },
  {
   "cell_type": "code",
   "execution_count": 40,
   "id": "20e7d839",
   "metadata": {},
   "outputs": [
    {
     "name": "stdout",
     "output_type": "stream",
     "text": [
      "     radius_mean  perimeter_mean  area_mean  concave points_mean\n",
      "306    -0.263364       -0.325363  -0.334435             0.003261\n",
      "262     0.898254        0.923936   0.833069             0.075070\n",
      "150    -0.320167       -0.348429  -0.385345             0.026450\n",
      "12      1.432201        1.665360   1.331355             0.111800\n",
      "234    -1.295188       -1.308161  -1.067361             0.016670\n",
      "..           ...             ...        ...                  ...\n",
      "563     1.929226        2.101976   1.968434             0.147400\n",
      "500     0.259222        0.278486   0.098153             0.061420\n",
      "178    -0.317327       -0.410215  -0.365436             0.001852\n",
      "88     -0.501936       -0.502069  -0.536936             0.037450\n",
      "41     -0.902396       -0.826648  -0.807125             0.056690\n",
      "\n",
      "[455 rows x 4 columns]      radius_mean  perimeter_mean  area_mean  concave points_mean\n",
      "119     1.085703        0.915698   0.930337             0.055960\n",
      "144    -0.959199       -0.976580  -0.852062             0.007875\n",
      "240    -0.138398       -0.189023  -0.226360             0.037310\n",
      "209     0.324545        0.255419   0.200825             0.031570\n",
      "524    -1.215664       -1.193240  -1.028681             0.024160\n",
      "91      0.352947        0.339035   0.208504             0.074830\n",
      "57      0.165497        0.147501   0.005719             0.081230\n",
      "111    -0.425252       -0.404448  -0.496265             0.060210\n",
      "271    -0.805831       -0.813055  -0.759060             0.027550\n",
      "442    -0.098636       -0.148245  -0.196212             0.009937\n",
      "256     1.540126        1.714788   1.570260             0.114400\n",
      "253     0.901094        0.866270   0.777324             0.083530\n",
      "269    -0.970559       -0.925504  -0.881641             0.028670\n",
      "363     0.673883        0.602652   0.521071             0.048350\n",
      "8      -0.320167       -0.184080  -0.384207             0.093530\n",
      "384    -0.240643       -0.254516  -0.321637             0.028640\n",
      "55     -0.740508       -0.767334  -0.699334             0.022780\n",
      "218     1.611130        1.554146   1.635674             0.086910\n",
      "180     3.718515        3.712513   4.536659             0.187800\n",
      "258     0.435311        0.750937   0.337342             0.137700\n",
      "247    -0.351408       -0.289115  -0.405822             0.039800\n",
      "231    -0.797311       -0.832414  -0.737160             0.003125\n",
      "49     -0.181000       -0.208383  -0.267030             0.033840\n",
      "24      0.716485        0.742699   0.710203             0.091700\n",
      "100    -0.146918       -0.161426  -0.205313             0.044890\n",
      "410    -0.785950       -0.802345  -0.725500             0.021000\n",
      "66     -1.324157       -1.312280  -1.096371             0.015040\n",
      "452    -0.604181       -0.626051  -0.604056             0.019450\n",
      "67     -0.800151       -0.830767  -0.741711             0.022300\n",
      "45      1.284513        1.307005   1.197683             0.100900\n",
      "408     1.097064        1.063983   0.957925             0.088240\n",
      "280     1.429361        1.409980   1.374017             0.096640\n",
      "273    -1.245485       -1.255026  -1.038066             0.014070\n",
      "428    -0.851273       -0.885549  -0.778684             0.013700\n",
      "344    -0.686545       -0.697722  -0.667195             0.032500\n",
      "436    -0.357089       -0.383029  -0.414355             0.020900\n",
      "202     2.602339        2.756900   2.929741             0.162000\n",
      "376    -1.010321       -0.898730  -0.900412             0.059410\n",
      "415    -0.635423       -0.641704  -0.628800             0.021790\n",
      "15      0.117215        0.196105   0.011123             0.073640\n",
      "26      0.128576        0.224115  -0.028694             0.087830\n",
      "29      0.977778        0.948650   0.853831             0.079530\n",
      "533     1.801419        1.760097   1.831917             0.101500\n",
      "427    -0.944998       -0.954749  -0.838979             0.014040\n",
      "4       1.750297        1.776573   1.826229             0.104300\n",
      "283     0.600039        0.693271   0.427215             0.090520\n",
      "317     1.162387        1.101054   1.058322             0.079500\n",
      "176    -1.199475       -1.127336  -1.002515             0.037160\n",
      "233     1.812780        1.747740   1.888800             0.083400\n",
      "557    -1.336086       -1.347292  -1.090967             0.000000\n",
      "315    -0.465014       -0.526371  -0.492852             0.006423\n",
      "510    -0.678025       -0.644999  -0.650984             0.026390\n",
      "248    -0.987600       -0.986877  -0.875668             0.016150\n",
      "496    -0.419572       -0.382205  -0.481476             0.050740\n",
      "483    -0.121357       -0.173371  -0.238305             0.031600\n",
      "338    -1.158009       -1.135162  -0.978625             0.017750\n",
      "1       1.829821        1.685955   1.908708             0.070170      radius_mean  perimeter_mean  area_mean  concave points_mean\n",
      "511     0.193899        0.110841   0.073409             0.025410\n",
      "529    -0.584300       -0.582390  -0.596377             0.027980\n",
      "327    -0.595661       -0.654061  -0.594102             0.005592\n",
      "13      0.489274        0.483201   0.363507             0.053640\n",
      "30      1.278833        1.352314   1.231812             0.124400\n",
      "212     3.971288        3.976130   5.244841             0.159500\n",
      "531    -0.697906       -0.690308  -0.678856             0.021570\n",
      "455    -0.212241       -0.231861  -0.277838             0.032640\n",
      "301    -0.473535       -0.475295  -0.522146             0.030990\n",
      "311     0.137096        0.029285   0.028472             0.018770\n",
      "324    -0.547378       -0.574975  -0.560257             0.016920\n",
      "36      0.034851        0.068416  -0.062255             0.055980\n",
      "39     -0.183840       -0.147009  -0.272150             0.054390\n",
      "197     1.122625        1.047507   1.049789             0.057780\n",
      "534    -0.899556       -0.872369  -0.822768             0.027880\n",
      "477    -0.064554       -0.123531  -0.157817             0.013390\n",
      "345    -1.098366       -1.061432  -0.947908             0.020370\n",
      "326    -0.004911       -0.079869  -0.109183             0.027330\n",
      "468     0.986298        1.113411   0.926071             0.100200\n",
      "81     -0.223602       -0.225682  -0.383638             0.069870\n",
      "43     -0.240643       -0.191495  -0.311967             0.061580\n",
      "199     0.091654        0.103839  -0.034667             0.059800\n",
      "546    -1.081325       -1.098091  -0.938523             0.005495\n",
      "46     -1.684571       -1.658278  -1.288347             0.005917\n",
      "554    -0.354249       -0.390031  -0.399850             0.023430\n",
      "482    -0.186680       -0.191495  -0.308839             0.052660\n",
      "60     -1.123927       -1.129395  -0.975496             0.012900\n",
      "163    -0.507616       -0.499185  -0.541486             0.028220\n",
      "439    -0.030472       -0.097993  -0.137624             0.026520\n",
      "504    -1.380108       -1.255437  -1.155243             0.052520\n",
      "102    -0.553058       -0.607516  -0.557982             0.017700\n",
      "103    -1.207427       -1.154110  -1.014176             0.030290\n",
      "84     -0.604181       -0.618637  -0.601781             0.018630\n",
      "309    -0.305966       -0.381381  -0.353491             0.008829\n",
      "475    -0.368449       -0.373967  -0.420896             0.030780\n",
      "28      0.333066        0.429654   0.220449             0.087510\n",
      "112     0.037691        0.241414  -0.071072             0.077980\n",
      "489     0.727846        0.623248   0.576531             0.023070\n",
      "132     0.577318        0.586176   0.440582             0.056130\n",
      "433     1.332796        1.307005   1.294382             0.087440\n",
      "210     1.832661        1.760097   1.806321             0.095610\n",
      "183    -0.771749       -0.759507  -0.719243             0.023610\n",
      "63     -1.407089       -1.349763  -1.120545             0.021800\n",
      "152    -1.248609       -1.161112  -1.008772             0.078570\n",
      "473    -0.527497       -0.599278  -0.538926             0.000000\n",
      "323     1.764497        1.809525   1.732374             0.150400\n",
      "20     -0.297446       -0.261106  -0.383638             0.031100\n",
      "189    -0.518977       -0.541199  -0.543761             0.016540\n",
      "108     2.312645        2.505640   2.429179             0.182300\n",
      "329     0.605719        0.639724   0.488932             0.079810\n",
      "512    -0.206561       -0.137124  -0.279260             0.081720\n",
      "272     2.164957        2.279094   2.377985             0.108800\n",
      "550    -0.927957       -0.966282  -0.837273             0.000000\n",
      "82      3.150487        3.275896   3.478653             0.184500\n",
      "383    -0.493416       -0.466645  -0.546037             0.028800\n",
      "486     0.145616        0.092306   0.031601             0.027910\n",
      "539    -1.827998       -1.797089  -1.377937             0.013640\n"
     ]
    }
   ],
   "source": [
    "x3_train, x3_test, y3_train, y3_test = train_test_split(x3, y3, test_size=1 - train_ratio)\n",
    "\n",
    "# test is now 10% of the initial data set\n",
    "# validation is now 10% of the initial data set\n",
    "x3_val, x3_test, y3_val, y3_test = train_test_split(x3_test, y3_test, test_size=test_ratio/(test_ratio + validation_ratio)) \n",
    "\n",
    "print(x3_train, x3_val, x3_test)"
   ]
  },
  {
   "cell_type": "code",
   "execution_count": 41,
   "id": "53cf9655",
   "metadata": {},
   "outputs": [],
   "source": [
    "scores3 = []\n",
    "for i in range(1,100):\n",
    "    knn = KNeighborsClassifier(n_neighbors=i)\n",
    "    knn.fit(x3_train,y3_train)\n",
    "    score_i = knn.score(x3_test,y3_test)\n",
    "    scores3.append(score_i)"
   ]
  },
  {
   "cell_type": "code",
   "execution_count": 43,
   "id": "51737546",
   "metadata": {},
   "outputs": [
    {
     "data": {
      "text/plain": [
       "Text(0, 0.5, 'Accuracy')"
      ]
     },
     "execution_count": 43,
     "metadata": {},
     "output_type": "execute_result"
    },
    {
     "data": {
      "image/png": "[encoded data removed]",
      "text/plain": [
       "<Figure size 1152x432 with 1 Axes>"
      ]
     },
     "metadata": {
      "needs_background": "light"
     },
     "output_type": "display_data"
    }
   ],
   "source": [
    "plt.figure(figsize =(16,6))\n",
    "plt.plot(range(1,100),scores3,color = 'green')\n",
    "plt.title('Accuracy vs: K Value')\n",
    "plt.xlabel('K_Value')\n",
    "plt.ylabel('Accuracy')"
   ]
  },
  {
   "cell_type": "code",
   "execution_count": 45,
   "id": "a54e3458",
   "metadata": {},
   "outputs": [
    {
     "name": "stdout",
     "output_type": "stream",
     "text": [
      "3\n"
     ]
    }
   ],
   "source": [
    "kn3= max(scores3)\n",
    "best_knn3 = scores3.index(kn3)+1\n",
    "print(best_knn3)"
   ]
  },
  {
   "cell_type": "code",
   "execution_count": 51,
   "id": "2a070fba",
   "metadata": {},
   "outputs": [
    {
     "name": "stdout",
     "output_type": "stream",
     "text": [
      "0.8947368421052632\n"
     ]
    },
    {
     "data": {
      "text/plain": [
       "Text(0.5, 1.0, 'KNN Super Reduced Predictions')"
      ]
     },
     "execution_count": 51,
     "metadata": {},
     "output_type": "execute_result"
    },
    {
     "data": {
      "image/png": "[encoded data removed]",
      "text/plain": [
       "<Figure size 432x288 with 2 Axes>"
      ]
     },
     "metadata": {
      "needs_background": "light"
     },
     "output_type": "display_data"
    }
   ],
   "source": [
    "best_knn_model3 = KNeighborsClassifier(n_neighbors = best_knn3)\n",
    "best_knn_model3.fit(x3_train, y3_train)\n",
    "\n",
    "predictions_best3 = best_knn_model3.predict(x3_test)\n",
    "\n",
    "print(best_knn_model3.score(x3_val,y3_val))\n",
    "sns.heatmap(confusion_matrix(y3_test,predictions_best3), \n",
    "           annot = True).set_title(\"KNN Super Reduced Predictions\")"
   ]
  },
  {
   "cell_type": "code",
   "execution_count": 59,
   "id": "557a8005",
   "metadata": {},
   "outputs": [
    {
     "name": "stdout",
     "output_type": "stream",
     "text": [
      "0.9122807017543859\n"
     ]
    },
    {
     "data": {
      "text/plain": [
       "Text(0.5, 1.0, 'Random Forest Super Reduced Predictions')"
      ]
     },
     "execution_count": 59,
     "metadata": {},
     "output_type": "execute_result"
    },
    {
     "data": {
      "image/png": "[encoded data removed]",
      "text/plain": [
       "<Figure size 432x288 with 2 Axes>"
      ]
     },
     "metadata": {
      "needs_background": "light"
     },
     "output_type": "display_data"
    }
   ],
   "source": [
    "RFmodel3 = RandomForestClassifier(n_estimators=100, criterion='entropy')\n",
    "RFmodel3.fit(x3_train, y3_train)\n",
    "RFy3_pred = RFmodel3.predict(x3_test)\n",
    "    \n",
    "RFscore3 = RFmodel3.score(x3_val,y3_val)\n",
    "print(RFscore3)\n",
    "sns.heatmap(confusion_matrix(y3_test,RFy3_pred), \n",
    "           annot = True).set_title(\"Random Forest Super Reduced Predictions\")"
   ]
  },
  {
   "cell_type": "code",
   "execution_count": 69,
   "id": "71a93bdb",
   "metadata": {},
   "outputs": [
    {
     "name": "stdout",
     "output_type": "stream",
     "text": [
      "0.9298245614035088\n"
     ]
    },
    {
     "data": {
      "text/plain": [
       "Text(0.5, 1.0, 'SVC Non-Reduced Predictions')"
      ]
     },
     "execution_count": 69,
     "metadata": {},
     "output_type": "execute_result"
    },
    {
     "data": {
      "image/png": "[encoded data removed]",
      "text/plain": [
       "<Figure size 432x288 with 2 Axes>"
      ]
     },
     "metadata": {
      "needs_background": "light"
     },
     "output_type": "display_data"
    }
   ],
   "source": [
    "S3classifier = SVC(kernel='linear',C=1,gamma='auto')\n",
    "S3model = S3classifier.fit(x3_train, y3_train)\n",
    "Sy3_pred = S3classifier.predict(x3_test)\n",
    "Sscore3 = S3model.score(x3_val,y3_val) #Gets the accuracy of our end result\n",
    "\n",
    "print(Sscore3)\n",
    "sns.heatmap(confusion_matrix(y3_test,Sy3_pred), \n",
    "           annot = True).set_title(\"SVC Non-Reduced Predictions\")"
   ]
  },
  {
   "cell_type": "code",
   "execution_count": null,
   "id": "33db4c24",
   "metadata": {},
   "outputs": [],
   "source": []
  },
  {
   "cell_type": "code",
   "execution_count": null,
   "id": "d2d0f5a7",
   "metadata": {},
   "outputs": [],
   "source": []
  },
  {
   "cell_type": "code",
   "execution_count": null,
   "id": "d223b924",
   "metadata": {},
   "outputs": [],
   "source": []
  },
  {
   "cell_type": "code",
   "execution_count": null,
   "id": "8debedf2",
   "metadata": {},
   "outputs": [],
   "source": []
  },
  {
   "cell_type": "code",
   "execution_count": null,
   "id": "76107b56",
   "metadata": {},
   "outputs": [],
   "source": []
  },
  {
   "cell_type": "code",
   "execution_count": null,
   "id": "662ffddc",
   "metadata": {},
   "outputs": [],
   "source": []
  },
  {
   "cell_type": "code",
   "execution_count": null,
   "id": "629d2611",
   "metadata": {},
   "outputs": [],
   "source": []
  },
  {
   "cell_type": "code",
   "execution_count": null,
   "id": "ab8a5c3d",
   "metadata": {},
   "outputs": [],
   "source": []
  }
 ],
 "metadata": {
  "kernelspec": {
   "display_name": "Python 3 (ipykernel)",
   "language": "python",
   "name": "python3"
  },
  "language_info": {
   "codemirror_mode": {
    "name": "ipython",
    "version": 3
   },
   "file_extension": ".py",
   "mimetype": "text/x-python",
   "name": "python",
   "nbconvert_exporter": "python",
   "pygments_lexer": "ipython3",
   "version": "3.9.12"
  }
 },
 "nbformat": 4,
 "nbformat_minor": 5
}
